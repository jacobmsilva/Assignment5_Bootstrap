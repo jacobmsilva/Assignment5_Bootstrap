{
 "cells": [
  {
   "cell_type": "markdown",
   "metadata": {},
   "source": [
    "# Assignment 5: \n",
    "Team members: \n",
    "Jacob Silva\n",
    "John David\n",
    "Josh L\n",
    "[x] Find classification dataset\n",
    "[]Find the best decision tree for the dataset using 5-fold cross-validation\n",
    "\n",
    "[]Compute the confidence interval using the bootstrap procedure "
   ]
  },
  {
   "cell_type": "code",
   "execution_count": 5,
   "metadata": {},
   "outputs": [],
   "source": [
    "import pandas as pd\n",
    "from treeviz import tree_print\n",
    "from sklearn import tree\n",
    "from sklearn.metrics import accuracy_score\n",
    "# sklearn provides manipulation of training sets...\n",
    "from sklearn.model_selection import train_test_split"
   ]
  },
  {
   "cell_type": "code",
   "execution_count": 8,
   "metadata": {},
   "outputs": [],
   "source": [
    "df = pd.read_csv(\"caesarian.csv\")\n",
    "X = df.drop(['Caesarian'],axis=1)\n",
    "y = df['Caesarian']"
   ]
  },
  {
   "cell_type": "code",
   "execution_count": 10,
   "metadata": {},
   "outputs": [
    {
     "name": "stdout",
     "output_type": "stream",
     "text": [
      "if Heart Problem =< 0.5: \n",
      "  |then if Delivery number =< 2.5: \n",
      "  |  |then if Age =< 21.5: \n",
      "  |  |  |then if Age =< 18.5: \n",
      "  |  |  |  |then if Blood of Pressure =< 0.5: \n",
      "  |  |  |  |  |then True\n",
      "  |  |  |  |  |else False\n",
      "  |  |  |  |else True\n",
      "  |  |  |else if Age =< 31.5: \n",
      "  |  |  |  |then if Delivery number =< 1.5: \n",
      "  |  |  |  |  |then if Blood of Pressure =< 1.5: \n",
      "  |  |  |  |  |  |then False\n",
      "  |  |  |  |  |  |else if Delivery time =< 1.0: \n",
      "  |  |  |  |  |  |  |then if Age =< 27.0: \n",
      "  |  |  |  |  |  |  |  |then True\n",
      "  |  |  |  |  |  |  |  |else False\n",
      "  |  |  |  |  |  |  |else False\n",
      "  |  |  |  |  |else if Blood of Pressure =< 1.5: \n",
      "  |  |  |  |  |  |then if Age =< 26.5: \n",
      "  |  |  |  |  |  |  |then if Age =< 23.5: \n",
      "  |  |  |  |  |  |  |  |then True\n",
      "  |  |  |  |  |  |  |  |else if Age =< 25.5: \n",
      "  |  |  |  |  |  |  |  |  |then False\n",
      "  |  |  |  |  |  |  |  |  |else if Delivery time =< 0.5: \n",
      "  |  |  |  |  |  |  |  |  |  |then True\n",
      "  |  |  |  |  |  |  |  |  |  |else if Delivery time =< 1.5: \n",
      "  |  |  |  |  |  |  |  |  |  |  |then False\n",
      "  |  |  |  |  |  |  |  |  |  |  |else False\n",
      "  |  |  |  |  |  |  |else False\n",
      "  |  |  |  |  |  |else True\n",
      "  |  |  |  |else if Delivery number =< 1.5: \n",
      "  |  |  |  |  |then if Blood of Pressure =< 1.5: \n",
      "  |  |  |  |  |  |then if Blood of Pressure =< 0.5: \n",
      "  |  |  |  |  |  |  |then if Age =< 34.0: \n",
      "  |  |  |  |  |  |  |  |then True\n",
      "  |  |  |  |  |  |  |  |else False\n",
      "  |  |  |  |  |  |  |else False\n",
      "  |  |  |  |  |  |else True\n",
      "  |  |  |  |  |else True\n",
      "  |  |else True\n",
      "  |else if Blood of Pressure =< 1.5: \n",
      "  |  |then if Blood of Pressure =< 0.5: \n",
      "  |  |  |then True\n",
      "  |  |  |else if Age =< 26.5: \n",
      "  |  |  |  |then False\n",
      "  |  |  |  |else if Age =< 28.5: \n",
      "  |  |  |  |  |then True\n",
      "  |  |  |  |  |else if Age =< 35.0: \n",
      "  |  |  |  |  |  |then if Delivery number =< 2.5: \n",
      "  |  |  |  |  |  |  |then False\n",
      "  |  |  |  |  |  |  |else False\n",
      "  |  |  |  |  |  |else True\n",
      "  |  |else True\n",
      "<------------------------------->\n",
      "Tree Depth:  11\n",
      "Accuracy: 0.5\n"
     ]
    }
   ],
   "source": [
    "# set up the tree model object - limit the complexity to put us somewhere in the middle of the graph.\n",
    "model = tree.DecisionTreeClassifier(criterion='entropy', max_depth=13)\n",
    "\n",
    "# split the data\n",
    "X_train, X_test, y_train, y_test = train_test_split(X, y, train_size=0.8, test_size=0.2)\n",
    "\n",
    "# fit the model on the training set of data\n",
    "model.fit(X_train, y_train)\n",
    "\n",
    "# evaluate the model on the testing set of data\n",
    "y_test_model = model.predict(X_test)\n",
    "\n",
    "# output the results\n",
    "tree_print(model,X)\n",
    "print(\"Accuracy: {}\".format(accuracy_score(y_test, y_test_model)))"
   ]
  },
  {
   "cell_type": "code",
   "execution_count": 14,
   "metadata": {},
   "outputs": [
    {
     "name": "stdout",
     "output_type": "stream",
     "text": [
      "Fold Accuracies: [0.5        0.8125     0.75       0.6        0.46666667]\n",
      "Accuracy: 0.6258333333333334\n"
     ]
    }
   ],
   "source": [
    "from sklearn.model_selection import cross_val_score\n",
    "model = tree.DecisionTreeClassifier(criterion='entropy', max_depth=2)\n",
    "\n",
    "# set up the model\n",
    "model = tree.DecisionTreeClassifier(criterion='entropy', max_depth=2)\n",
    "\n",
    "# do the 5-fold cross validation\n",
    "scores = cross_val_score(model, X, y, cv=5)\n",
    "print(\"Fold Accuracies: {}\".format(scores))\n",
    "print(\"Accuracy: {}\".format(scores.mean()))"
   ]
  },
  {
   "cell_type": "code",
   "execution_count": null,
   "metadata": {},
   "outputs": [],
   "source": []
  }
 ],
 "metadata": {
  "kernelspec": {
   "display_name": "Python 3",
   "language": "python",
   "name": "python3"
  },
  "language_info": {
   "codemirror_mode": {
    "name": "ipython",
    "version": 3
   },
   "file_extension": ".py",
   "mimetype": "text/x-python",
   "name": "python",
   "nbconvert_exporter": "python",
   "pygments_lexer": "ipython3",
   "version": "3.7.1"
  }
 },
 "nbformat": 4,
 "nbformat_minor": 2
}
